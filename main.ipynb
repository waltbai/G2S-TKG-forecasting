{
 "cells": [
  {
   "cell_type": "code",
   "execution_count": 3,
   "id": "1312e051-bfdb-4156-ae8e-53f48570ec43",
   "metadata": {
    "tags": []
   },
   "outputs": [
    {
     "name": "stdout",
     "output_type": "stream",
     "text": [
      "Warning: '/home/gomall/share/envs' already in 'envs_dirs' list, moving to the top\n",
      "\n",
      "CondaError: Run 'conda init' before 'conda activate'\n",
      "\n"
     ]
    }
   ],
   "source": [
    "# 挂载并启动conda虚拟环境\n",
    "!conda config --remove channels defaults\n",
    "!conda config --add envs_dirs /home/gomall/share/envs\n",
    "!conda activate llm4tkg"
   ]
  },
  {
   "cell_type": "code",
   "execution_count": 3,
   "id": "1d0e0d98-d4e2-4a77-a4bf-d49297e730f4",
   "metadata": {
    "tags": []
   },
   "outputs": [
    {
     "name": "stdout",
     "output_type": "stream",
     "text": [
      "\n",
      "----------------------------------------------------------------------\n",
      "Ran 0 tests in 0.000s\n",
      "\n",
      "OK\n"
     ]
    }
   ],
   "source": [
    "# 功能测试\n",
    "!python -m unittest tests"
   ]
  },
  {
   "cell_type": "code",
   "execution_count": null,
   "id": "882368a3-44fb-492f-9fc2-6f1b714bc573",
   "metadata": {},
   "outputs": [],
   "source": [
    "# 数据预处理\n",
    "!bash scripts/stage2/icews14/prepare.sh"
   ]
  },
  {
   "cell_type": "code",
   "execution_count": null,
   "id": "5a4d1e28-a336-4070-a2d7-95328d1ed991",
   "metadata": {},
   "outputs": [],
   "source": [
    "# 训练模型，单卡；双卡使用train.sh脚本\n",
    "!bash scripts/stage2/icews14/train-single.sh"
   ]
  },
  {
   "cell_type": "code",
   "execution_count": null,
   "id": "d8dafdc9-d28b-4bf9-a509-dcb8097f7e45",
   "metadata": {},
   "outputs": [],
   "source": [
    "# 评估模型，单卡；双卡使用eval.sh脚本\n",
    "!bash scripts/stage2/icews14/eval-single.sh"
   ]
  }
 ],
 "metadata": {
  "kernelspec": {
   "display_name": "Python 3 (ipykernel)",
   "language": "python",
   "name": "python3"
  },
  "language_info": {
   "codemirror_mode": {
    "name": "ipython",
    "version": 3
   },
   "file_extension": ".py",
   "mimetype": "text/x-python",
   "name": "python",
   "nbconvert_exporter": "python",
   "pygments_lexer": "ipython3",
   "version": "3.9.18"
  }
 },
 "nbformat": 4,
 "nbformat_minor": 5
}
